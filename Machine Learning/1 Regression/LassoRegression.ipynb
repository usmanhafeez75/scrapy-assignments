{
 "cells": [
  {
   "cell_type": "markdown",
   "metadata": {},
   "source": [
    "# LassoRegression"
   ]
  },
  {
   "cell_type": "code",
   "execution_count": 1,
   "metadata": {},
   "outputs": [],
   "source": [
    "import pandas as pd\n",
    "import numpy as np\n",
    "import matplotlib.pyplot as plt"
   ]
  },
  {
   "cell_type": "markdown",
   "metadata": {},
   "source": [
    "### The Model"
   ]
  },
  {
   "cell_type": "code",
   "execution_count": 2,
   "metadata": {},
   "outputs": [],
   "source": [
    "def lasso_with_coordinate_descent(X, y, l1_penalty, tolerance=1.0):\n",
    "    '''Runs coordinate descent on the normalized data.\n",
    "    Returns parameters learned by the model with l1 regularization\n",
    "    '''\n",
    "\n",
    "    m = X.shape[0]  # Training Examples\n",
    "    n = X.shape[1]  # No. of features\n",
    "    X = np.hstack((np.ones((m, 1)), X))  # Adding a column of ones for 0th feature i.e. Intercept\n",
    "\n",
    "    w = np.zeros((n + 1, 1))\n",
    "    max_step = tolerance\n",
    "\n",
    "    while max_step >= tolerance:\n",
    "\n",
    "        max_step_j = 0\n",
    "\n",
    "        for j in range(n + 1):\n",
    "\n",
    "            old_w_j = w[j, 0]\n",
    "\n",
    "            y_cap = np.matmul(X, w)                                     # Prediction\n",
    "            y_cap_wj_minus = y_cap - (X[:, j].reshape(-1,1) * w[j, 0])  # Prediction without jth feature\n",
    "            error_wj_minus = y - y_cap_wj_minus                         # Error without jth feature\n",
    "            roh_j = np.dot(X[:, j], error_wj_minus.flatten())\n",
    "\n",
    "            # update\n",
    "            if j == 0:\n",
    "                w[j, 0] = roh_j  # No penalization of intercept\n",
    "            else:\n",
    "                if roh_j < -l1_penalty / 2.0:\n",
    "                    w[j, 0] = roh_j + l1_penalty / 2.0\n",
    "                elif roh_j > l1_penalty / 2.0:\n",
    "                    w[j, 0] = roh_j - l1_penalty / 2.0\n",
    "                else:\n",
    "                    w[j, 0] = 0\n",
    "\n",
    "            current_step = np.abs(w[j, 0] - old_w_j)\n",
    "            if current_step > max_step_j:\n",
    "                max_step_j = current_step\n",
    "\n",
    "        max_step = max_step_j\n",
    "\n",
    "    return w\n",
    "\n",
    "def generate_polynomial_features(x, degree=2):\n",
    "    X = np.empty((x.shape[0], degree), dtype=x.dtype)\n",
    "    \n",
    "    for i in range(degree):\n",
    "        X[:,i] = x[:,0] ** (i+1)\n",
    "    \n",
    "    return X"
   ]
  },
  {
   "cell_type": "markdown",
   "metadata": {},
   "source": [
    "### Linear Data with noise"
   ]
  },
  {
   "cell_type": "code",
   "execution_count": 3,
   "metadata": {},
   "outputs": [
    {
     "data": {
      "text/plain": [
       "[<matplotlib.lines.Line2D at 0x7f8042cbba90>]"
      ]
     },
     "execution_count": 3,
     "metadata": {},
     "output_type": "execute_result"
    },
    {
     "data": {
      "image/png": "[encoded data removed]",
      "text/plain": [
       "<Figure size 864x576 with 1 Axes>"
      ]
     },
     "metadata": {
      "needs_background": "light"
     },
     "output_type": "display_data"
    }
   ],
   "source": [
    "x = np.linspace(-100,100,100).reshape((-1,1))\n",
    "y =  2 * x + 5\n",
    "y = y + np.random.randn(x.shape[0],1) * 10                  # Adding noise to data\n",
    "plt.figure(figsize=(12,8))\n",
    "plt.plot(x[:,0], y, '.')"
   ]
  },
  {
   "cell_type": "markdown",
   "metadata": {},
   "source": [
    "### Generating Polynomial Features of much higher degree"
   ]
  },
  {
   "cell_type": "code",
   "execution_count": 4,
   "metadata": {},
   "outputs": [
    {
     "data": {
      "text/plain": [
       "(100, 16)"
      ]
     },
     "execution_count": 4,
     "metadata": {},
     "output_type": "execute_result"
    }
   ],
   "source": [
    "X = generate_polynomial_features(x, degree=16)\n",
    "norms = np.linalg.norm(X, axis=0)\n",
    "X = X  / norms\n",
    "X.shape"
   ]
  },
  {
   "cell_type": "markdown",
   "metadata": {},
   "source": [
    "### Fitting a L1 regularized model on Polynomial Features"
   ]
  },
  {
   "cell_type": "code",
   "execution_count": 5,
   "metadata": {},
   "outputs": [],
   "source": [
    "w = lasso_with_coordinate_descent(X, y, 2e3, 3.6e3)"
   ]
  },
  {
   "cell_type": "code",
   "execution_count": 6,
   "metadata": {},
   "outputs": [
    {
     "name": "stdout",
     "output_type": "stream",
     "text": [
      "[[  293.45800984]\n",
      " [  171.93057006]\n",
      " [-1150.82477103]\n",
      " [    0.        ]\n",
      " [    0.        ]\n",
      " [    0.        ]\n",
      " [    0.        ]\n",
      " [    0.        ]\n",
      " [    0.        ]\n",
      " [    0.        ]\n",
      " [    0.        ]\n",
      " [    0.        ]\n",
      " [    0.        ]\n",
      " [    0.        ]\n",
      " [    0.        ]\n",
      " [    0.        ]\n",
      " [    0.        ]]\n"
     ]
    }
   ],
   "source": [
    "print(w)"
   ]
  },
  {
   "cell_type": "markdown",
   "metadata": {},
   "source": [
    "We can see that the higher degree coefficients are zero."
   ]
  },
  {
   "cell_type": "markdown",
   "metadata": {},
   "source": [
    "### Lasso Regression on Housing data with all features"
   ]
  },
  {
   "cell_type": "code",
   "execution_count": 7,
   "metadata": {},
   "outputs": [
    {
     "data": {
      "text/html": [
       "<div>\n",
       "<style scoped>\n",
       "    .dataframe tbody tr th:only-of-type {\n",
       "        vertical-align: middle;\n",
       "    }\n",
       "\n",
       "    .dataframe tbody tr th {\n",
       "        vertical-align: top;\n",
       "    }\n",
       "\n",
       "    .dataframe thead th {\n",
       "        text-align: right;\n",
       "    }\n",
       "</style>\n",
       "<table border=\"1\" class=\"dataframe\">\n",
       "  <thead>\n",
       "    <tr style=\"text-align: right;\">\n",
       "      <th></th>\n",
       "      <th>id</th>\n",
       "      <th>date</th>\n",
       "      <th>price</th>\n",
       "      <th>bedrooms</th>\n",
       "      <th>bathrooms</th>\n",
       "      <th>sqft_living</th>\n",
       "      <th>sqft_lot</th>\n",
       "      <th>floors</th>\n",
       "      <th>waterfront</th>\n",
       "      <th>view</th>\n",
       "      <th>condition</th>\n",
       "      <th>grade</th>\n",
       "      <th>sqft_above</th>\n",
       "      <th>sqft_basement</th>\n",
       "      <th>yr_built</th>\n",
       "      <th>yr_renovated</th>\n",
       "      <th>zipcode</th>\n",
       "      <th>lat</th>\n",
       "      <th>long</th>\n",
       "    </tr>\n",
       "  </thead>\n",
       "  <tbody>\n",
       "    <tr>\n",
       "      <th>0</th>\n",
       "      <td>7129300520</td>\n",
       "      <td>20141013T000000</td>\n",
       "      <td>221900</td>\n",
       "      <td>3</td>\n",
       "      <td>1.00</td>\n",
       "      <td>1180.0</td>\n",
       "      <td>5650</td>\n",
       "      <td>1.0</td>\n",
       "      <td>0</td>\n",
       "      <td>0</td>\n",
       "      <td>3</td>\n",
       "      <td>7</td>\n",
       "      <td>1180</td>\n",
       "      <td>0</td>\n",
       "      <td>1955.0</td>\n",
       "      <td>NaN</td>\n",
       "      <td>98178.0</td>\n",
       "      <td>47.5112</td>\n",
       "      <td>-122.257</td>\n",
       "    </tr>\n",
       "    <tr>\n",
       "      <th>1</th>\n",
       "      <td>6414100192</td>\n",
       "      <td>20141209T000000</td>\n",
       "      <td>538000</td>\n",
       "      <td>3</td>\n",
       "      <td>2.25</td>\n",
       "      <td>2570.0</td>\n",
       "      <td>7242</td>\n",
       "      <td>2.0</td>\n",
       "      <td>0</td>\n",
       "      <td>0</td>\n",
       "      <td>3</td>\n",
       "      <td>7</td>\n",
       "      <td>2170</td>\n",
       "      <td>400</td>\n",
       "      <td>1951.0</td>\n",
       "      <td>1991.0</td>\n",
       "      <td>98125.0</td>\n",
       "      <td>47.7210</td>\n",
       "      <td>-122.319</td>\n",
       "    </tr>\n",
       "    <tr>\n",
       "      <th>2</th>\n",
       "      <td>5631500400</td>\n",
       "      <td>20150225T000000</td>\n",
       "      <td>180000</td>\n",
       "      <td>2</td>\n",
       "      <td>1.00</td>\n",
       "      <td>770.0</td>\n",
       "      <td>10000</td>\n",
       "      <td>1.0</td>\n",
       "      <td>0</td>\n",
       "      <td>0</td>\n",
       "      <td>3</td>\n",
       "      <td>6</td>\n",
       "      <td>770</td>\n",
       "      <td>0</td>\n",
       "      <td>1933.0</td>\n",
       "      <td>NaN</td>\n",
       "      <td>98028.0</td>\n",
       "      <td>47.7379</td>\n",
       "      <td>-122.233</td>\n",
       "    </tr>\n",
       "    <tr>\n",
       "      <th>3</th>\n",
       "      <td>2487200875</td>\n",
       "      <td>20141209T000000</td>\n",
       "      <td>604000</td>\n",
       "      <td>4</td>\n",
       "      <td>3.00</td>\n",
       "      <td>1960.0</td>\n",
       "      <td>5000</td>\n",
       "      <td>1.0</td>\n",
       "      <td>0</td>\n",
       "      <td>0</td>\n",
       "      <td>5</td>\n",
       "      <td>7</td>\n",
       "      <td>1050</td>\n",
       "      <td>910</td>\n",
       "      <td>1965.0</td>\n",
       "      <td>NaN</td>\n",
       "      <td>98136.0</td>\n",
       "      <td>47.5208</td>\n",
       "      <td>-122.393</td>\n",
       "    </tr>\n",
       "    <tr>\n",
       "      <th>4</th>\n",
       "      <td>1954400510</td>\n",
       "      <td>20150218T000000</td>\n",
       "      <td>510000</td>\n",
       "      <td>3</td>\n",
       "      <td>2.00</td>\n",
       "      <td>1680.0</td>\n",
       "      <td>8080</td>\n",
       "      <td>1.0</td>\n",
       "      <td>0</td>\n",
       "      <td>0</td>\n",
       "      <td>3</td>\n",
       "      <td>8</td>\n",
       "      <td>1680</td>\n",
       "      <td>0</td>\n",
       "      <td>1987.0</td>\n",
       "      <td>NaN</td>\n",
       "      <td>98074.0</td>\n",
       "      <td>47.6168</td>\n",
       "      <td>-122.045</td>\n",
       "    </tr>\n",
       "  </tbody>\n",
       "</table>\n",
       "</div>"
      ],
      "text/plain": [
       "           id             date   price  bedrooms  bathrooms  sqft_living  \\\n",
       "0  7129300520  20141013T000000  221900         3       1.00       1180.0   \n",
       "1  6414100192  20141209T000000  538000         3       2.25       2570.0   \n",
       "2  5631500400  20150225T000000  180000         2       1.00        770.0   \n",
       "3  2487200875  20141209T000000  604000         4       3.00       1960.0   \n",
       "4  1954400510  20150218T000000  510000         3       2.00       1680.0   \n",
       "\n",
       "   sqft_lot  floors  waterfront  view  condition  grade  sqft_above  \\\n",
       "0      5650     1.0           0     0          3      7        1180   \n",
       "1      7242     2.0           0     0          3      7        2170   \n",
       "2     10000     1.0           0     0          3      6         770   \n",
       "3      5000     1.0           0     0          5      7        1050   \n",
       "4      8080     1.0           0     0          3      8        1680   \n",
       "\n",
       "   sqft_basement  yr_built  yr_renovated  zipcode      lat     long  \n",
       "0              0    1955.0           NaN  98178.0  47.5112 -122.257  \n",
       "1            400    1951.0        1991.0  98125.0  47.7210 -122.319  \n",
       "2              0    1933.0           NaN  98028.0  47.7379 -122.233  \n",
       "3            910    1965.0           NaN  98136.0  47.5208 -122.393  \n",
       "4              0    1987.0           NaN  98074.0  47.6168 -122.045  "
      ]
     },
     "execution_count": 7,
     "metadata": {},
     "output_type": "execute_result"
    }
   ],
   "source": [
    "df = pd.read_csv('data/LinearRegression_kc_house_data.csv')\n",
    "df.head()"
   ]
  },
  {
   "cell_type": "markdown",
   "metadata": {},
   "source": [
    "#### Analyzing nan values of the data"
   ]
  },
  {
   "cell_type": "code",
   "execution_count": 8,
   "metadata": {},
   "outputs": [
    {
     "data": {
      "text/plain": [
       "id                   0\n",
       "date                 0\n",
       "price                0\n",
       "bedrooms             0\n",
       "bathrooms            0\n",
       "sqft_living          8\n",
       "sqft_lot             0\n",
       "floors               0\n",
       "waterfront           0\n",
       "view                 0\n",
       "condition            0\n",
       "grade                0\n",
       "sqft_above           0\n",
       "sqft_basement        0\n",
       "yr_built             6\n",
       "yr_renovated     20699\n",
       "zipcode              4\n",
       "lat                  0\n",
       "long                 0\n",
       "dtype: int64"
      ]
     },
     "execution_count": 8,
     "metadata": {},
     "output_type": "execute_result"
    }
   ],
   "source": [
    "df.isna().sum()"
   ]
  },
  {
   "cell_type": "markdown",
   "metadata": {},
   "source": [
    "#### Filling nan values of the data with most approprite methods"
   ]
  },
  {
   "cell_type": "code",
   "execution_count": 9,
   "metadata": {},
   "outputs": [
    {
     "data": {
      "text/plain": [
       "id               0\n",
       "date             0\n",
       "price            0\n",
       "bedrooms         0\n",
       "bathrooms        0\n",
       "sqft_living      0\n",
       "sqft_lot         0\n",
       "floors           0\n",
       "waterfront       0\n",
       "view             0\n",
       "condition        0\n",
       "grade            0\n",
       "sqft_above       0\n",
       "sqft_basement    0\n",
       "yr_built         6\n",
       "yr_renovated     6\n",
       "zipcode          0\n",
       "lat              0\n",
       "long             0\n",
       "dtype: int64"
      ]
     },
     "execution_count": 9,
     "metadata": {},
     "output_type": "execute_result"
    }
   ],
   "source": [
    "df['yr_renovated'] = df['yr_renovated'].fillna(df['yr_built'])\n",
    "df['zipcode'] = df['zipcode'].fillna(method='ffill')\n",
    "df['sqft_living'] = df['sqft_living'].fillna(df['sqft_living'].mean())\n",
    "df.isna().sum()"
   ]
  },
  {
   "cell_type": "markdown",
   "metadata": {},
   "source": [
    "Only 6 rows will be dropped with nan values"
   ]
  },
  {
   "cell_type": "markdown",
   "metadata": {},
   "source": [
    "#### Selecting features"
   ]
  },
  {
   "cell_type": "code",
   "execution_count": 10,
   "metadata": {},
   "outputs": [],
   "source": [
    "columns_to_select = ['bedrooms',\n",
    "                'bathrooms',\n",
    "                'sqft_living',\n",
    "                'sqft_lot',\n",
    "                'floors',\n",
    "                'waterfront', \n",
    "                'view', \n",
    "                'condition', \n",
    "                'grade',\n",
    "                'sqft_above',\n",
    "                'sqft_basement',\n",
    "                'yr_built', \n",
    "                'yr_renovated']"
   ]
  },
  {
   "cell_type": "code",
   "execution_count": 11,
   "metadata": {},
   "outputs": [
    {
     "name": "stdout",
     "output_type": "stream",
     "text": [
      "(21607, 13) (21607, 1)\n"
     ]
    }
   ],
   "source": [
    "df = df[columns_to_select + ['price']].dropna()     # Only 6 rows dropped\n",
    "X = np.array(df[columns_to_select])\n",
    "y = np.array(df['price']).reshape(-1,1)\n",
    "print(X.shape, y.shape)"
   ]
  },
  {
   "cell_type": "markdown",
   "metadata": {},
   "source": [
    "#### Feature Normalization"
   ]
  },
  {
   "cell_type": "code",
   "execution_count": 14,
   "metadata": {},
   "outputs": [],
   "source": [
    "norms = np.linalg.norm(X, axis=0)\n",
    "X = X / norms"
   ]
  },
  {
   "cell_type": "markdown",
   "metadata": {},
   "source": [
    "#### Running the model"
   ]
  },
  {
   "cell_type": "code",
   "execution_count": 24,
   "metadata": {},
   "outputs": [],
   "source": [
    "w = lasso_with_coordinate_descent(X, y, 2.5e10, 2e12)"
   ]
  },
  {
   "cell_type": "code",
   "execution_count": 25,
   "metadata": {},
   "outputs": [
    {
     "data": {
      "text/plain": [
       "Intercept        1.166979e+10\n",
       "bedrooms        -1.641014e+12\n",
       "bathrooms       -3.577735e+10\n",
       "sqft_living      1.631296e+09\n",
       "sqft_lot        -8.296067e+09\n",
       "floors          -5.206807e+10\n",
       "waterfront       0.000000e+00\n",
       "view             9.322909e+09\n",
       "condition       -3.767553e+10\n",
       "grade            0.000000e+00\n",
       "sqft_above       6.799517e+10\n",
       "sqft_basement    5.512374e+10\n",
       "yr_built        -9.357435e+10\n",
       "yr_renovated     0.000000e+00\n",
       "dtype: float64"
      ]
     },
     "execution_count": 25,
     "metadata": {},
     "output_type": "execute_result"
    }
   ],
   "source": [
    "pd.Series(w.flatten(), index= ['Intercept'] + columns_to_select)"
   ]
  },
  {
   "cell_type": "markdown",
   "metadata": {},
   "source": [
    "We can see that the weights for the less important features are made zero by lasso. We can train using non zero features using least squares regression to further improve the performance. This is called <b>debiasing lasso</b>."
   ]
  },
  {
   "cell_type": "markdown",
   "metadata": {},
   "source": [
    "We can choose hyperparameters of lasso like L1_penalty by k_fold_cross_validation or just validation set just like in Ridge Regression."
   ]
  },
  {
   "cell_type": "code",
   "execution_count": null,
   "metadata": {},
   "outputs": [],
   "source": []
  }
 ],
 "metadata": {
  "kernelspec": {
   "display_name": "Python 3",
   "language": "python",
   "name": "python3"
  },
  "language_info": {
   "codemirror_mode": {
    "name": "ipython",
    "version": 3
   },
   "file_extension": ".py",
   "mimetype": "text/x-python",
   "name": "python",
   "nbconvert_exporter": "python",
   "pygments_lexer": "ipython3",
   "version": "3.6.5"
  }
 },
 "nbformat": 4,
 "nbformat_minor": 2
}
