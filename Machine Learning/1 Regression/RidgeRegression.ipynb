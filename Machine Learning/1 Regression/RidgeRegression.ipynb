{
 "cells": [
  {
   "cell_type": "markdown",
   "metadata": {},
   "source": [
    "# RidgeRegression"
   ]
  },
  {
   "cell_type": "code",
   "execution_count": 1,
   "metadata": {},
   "outputs": [],
   "source": [
    "import pandas as pd\n",
    "import numpy as np\n",
    "import matplotlib.pyplot as plt"
   ]
  },
  {
   "cell_type": "markdown",
   "metadata": {},
   "source": [
    "### The Model"
   ]
  },
  {
   "cell_type": "code",
   "execution_count": 2,
   "metadata": {},
   "outputs": [],
   "source": [
    "def ridge_regression(X, y, max_iter=10000, learning_rate=0.01, tolerance=0.1, max_grad=1e6, lambda_regul=0.0,\n",
    "                              learning_rate_decay=True):\n",
    "    '''Runs Gradient Descent on the data.\n",
    "    Returns Parameters learned by the model and costs, scores and gradient magnitudes lists \n",
    "    computed so far during training respectively in order.\n",
    "    '''\n",
    "    \n",
    "    m = X.shape[0]                                      # Training Examples\n",
    "    n = X.shape[1]                                      # No. of features\n",
    "    X = np.hstack((np.ones((m,1)), X))                  # Adding a column of ones for 0th feature i.e. Intercept\n",
    "    w = np.zeros((n+1, n))#random.randn(n+1, 1) * np.sqrt(2.0 / n)      # Random (He) initialization of weights\n",
    "    costs = []\n",
    "    scores = []\n",
    "    gradient_magnitudes = []\n",
    "    \n",
    "    for t in range(max_iter):\n",
    "        \n",
    "        y_cap = np.matmul(X, w)\n",
    "        error = y - y_cap\n",
    "        dw = -2 * np.matmul(X.T, error)\n",
    "        dw = np.clip(dw, -max_grad, max_grad)           # Avoiding Vanishing/Exploding Gradients\n",
    "        w = w * (1 - 2 * learning_rate * lambda_regul) # Weights Penalization except intercept\n",
    "        w -= learning_rate * dw\n",
    "        \n",
    "        cost = np.matmul(error.T, error)\n",
    "        score = 1 - (cost / ((y - y.mean()) ** 2).sum()) # coefficient R^2\n",
    "        costs.append(cost.flatten()[0])\n",
    "        scores.append(score.flatten()[0])\n",
    "        \n",
    "        gradient_magnitude = np.linalg.norm(dw)\n",
    "        gradient_magnitudes.append(gradient_magnitude)\n",
    "        if gradient_magnitude < tolerance:\n",
    "            break\n",
    "            \n",
    "        if learning_rate_decay and (t+1) % 100 == 0:\n",
    "            learning_rate = learning_rate / np.sqrt(t)    # Learning rate decay over every 100th iteration\n",
    "        \n",
    "    return w, costs, scores, gradient_magnitudes\n",
    "\n",
    "def score(X, y, w):\n",
    "    '''Returns the coefficient R^2 score of the model\n",
    "    '''\n",
    "    if X.shape[1] < w.shape[0]:\n",
    "        X = np.hstack((np.ones((X.shape[0],1)), X))\n",
    "    y_cap = np.matmul(X, w)\n",
    "    error = y - y_cap\n",
    "    cost = np.matmul(error.T, error)\n",
    "    score = 1 - (cost / ((y - y.mean()) ** 2).sum())\n",
    "    \n",
    "    return score.flatten()[0]\n",
    "\n",
    "def predict(X, w):\n",
    "    \n",
    "    if X.shape[1] < w.shape[0]:\n",
    "        X = np.hstack((np.ones((X.shape[0],1)), X))\n",
    "    \n",
    "    return np.matmul(X, w)\n",
    "\n",
    "def generate_polynomial_features(x, degree=2):\n",
    "    X = np.empty((x.shape[0], degree), dtype=x.dtype)\n",
    "    \n",
    "    for i in range(degree):\n",
    "        X[:,i] = x[:,0] ** (i+1)\n",
    "    \n",
    "    return X\n",
    "    "
   ]
  },
  {
   "cell_type": "markdown",
   "metadata": {},
   "source": [
    "### Linear Data with noise and outliers"
   ]
  },
  {
   "cell_type": "code",
   "execution_count": 64,
   "metadata": {},
   "outputs": [
    {
     "data": {
      "text/plain": [
       "[<matplotlib.lines.Line2D at 0x7f75471d5b38>]"
      ]
     },
     "execution_count": 64,
     "metadata": {},
     "output_type": "execute_result"
    },
    {
     "data": {
      "image/png": "[encoded data removed]",
      "text/plain": [
       "<Figure size 864x576 with 1 Axes>"
      ]
     },
     "metadata": {
      "needs_background": "light"
     },
     "output_type": "display_data"
    }
   ],
   "source": [
    "x = np.linspace(-100,100,100).reshape((-1,1))\n",
    "y =  2 * x + 5\n",
    "y = y + np.random.randn(x.shape[0],1) * 10                  # Adding noise to data\n",
    "outlier_indices = np.random.randint(0, 50, 10)\n",
    "y[outlier_indices] = y[outlier_indices] + 50               # Adding outliers\n",
    "outlier_indices = np.random.randint(50, 100, 10)\n",
    "y[outlier_indices] = y[outlier_indices] - 50               # Adding outliers\n",
    "plt.figure(figsize=(12,8))\n",
    "plt.plot(x[:,0], y, '.')"
   ]
  },
  {
   "cell_type": "markdown",
   "metadata": {},
   "source": [
    "### Generating Polynomial Features"
   ]
  },
  {
   "cell_type": "code",
   "execution_count": 65,
   "metadata": {},
   "outputs": [
    {
     "data": {
      "text/plain": [
       "(100, 3)"
      ]
     },
     "execution_count": 65,
     "metadata": {},
     "output_type": "execute_result"
    }
   ],
   "source": [
    "X = generate_polynomial_features(x, degree=3)\n",
    "X.shape"
   ]
  },
  {
   "cell_type": "markdown",
   "metadata": {},
   "source": [
    "### Fitting non-regularized model on Polynomial Features"
   ]
  },
  {
   "cell_type": "code",
   "execution_count": 104,
   "metadata": {},
   "outputs": [
    {
     "data": {
      "text/plain": [
       "0.920049501372424"
      ]
     },
     "execution_count": 104,
     "metadata": {},
     "output_type": "execute_result"
    },
    {
     "data": {
      "image/png": "[encoded data removed]",
      "text/plain": [
       "<Figure size 864x576 with 1 Axes>"
      ]
     },
     "metadata": {
      "needs_background": "light"
     },
     "output_type": "display_data"
    }
   ],
   "source": [
    "w, costs, _, _ = ridge_regression(X, y, max_grad=100, tolerance=200)\n",
    "plt.figure(figsize=(12,8))\n",
    "plt.plot(X[:,0], y, '.' , X[:,0], predict(X,w), 'r')\n",
    "score(X,y,w)"
   ]
  },
  {
   "cell_type": "markdown",
   "metadata": {},
   "source": [
    "We can clearly see the effects of outliers. The model is inclined towards the outliers."
   ]
  },
  {
   "cell_type": "markdown",
   "metadata": {},
   "source": [
    "### Fitting a regularized model on Polynomial Features"
   ]
  },
  {
   "cell_type": "code",
   "execution_count": 110,
   "metadata": {},
   "outputs": [
    {
     "data": {
      "text/plain": [
       "0.9592320386733447"
      ]
     },
     "execution_count": 110,
     "metadata": {},
     "output_type": "execute_result"
    },
    {
     "data": {
      "image/png": "[encoded data removed]",
      "text/plain": [
       "<Figure size 864x576 with 1 Axes>"
      ]
     },
     "metadata": {
      "needs_background": "light"
     },
     "output_type": "display_data"
    }
   ],
   "source": [
    "w, costs, _, _ = ridge_regression(X, y, max_grad=100, lambda_regul=0.1)\n",
    "plt.figure(figsize=(12,8))\n",
    "plt.plot(X[:,0], y, '.' , X[:,0], predict(X,w), 'r')\n",
    "score(X,y,w)"
   ]
  },
  {
   "cell_type": "markdown",
   "metadata": {},
   "source": [
    "The regularized model is more smoothly fitting the general trend of the data."
   ]
  },
  {
   "cell_type": "markdown",
   "metadata": {},
   "source": [
    "### How to choose lambda_regul?"
   ]
  },
  {
   "cell_type": "markdown",
   "metadata": {},
   "source": [
    "#### k-fold cross validation"
   ]
  },
  {
   "cell_type": "code",
   "execution_count": 69,
   "metadata": {},
   "outputs": [],
   "source": [
    "def k_fold_cross_validation(X, y, lambda_regul_list, k=10):\n",
    "    \n",
    "    m = X.shape[0]                            # No. of examples\n",
    "    n = X.shape[1]                            # No. of features\n",
    "    \n",
    "    train_scores = []\n",
    "    validation_scores = []\n",
    "    \n",
    "    for lambda_regul in lambda_regul_list:\n",
    "        \n",
    "        train_score = 0\n",
    "        validation_score = 0\n",
    "        \n",
    "        for i in range(k):\n",
    "            \n",
    "            start = (m * i) // k\n",
    "            end = (m * (i + 1)) // k-1\n",
    "            \n",
    "            X_valid = X[start:end+1, :]\n",
    "            y_valid = y[start:end+1, :]\n",
    "            \n",
    "            X_train = np.append(X[:start, :], X[end+1:, :], axis=0)\n",
    "            y_train = np.append(y[:start, :], y[end+1:, :], axis=0)\n",
    "            \n",
    "            w, _, _, _ = ridge_regression(X_train, y_train, max_grad=1e7, lambda_regul=lambda_regul)\n",
    "            \n",
    "            train_score += score(X_train, y_train, w)\n",
    "            validation_score += score(X_valid, y_valid, w)\n",
    "            \n",
    "        train_score /= k\n",
    "        train_scores.append(train_score)\n",
    "        validation_score /= k\n",
    "        validation_scores.append(validation_score)\n",
    "    \n",
    "    return train_scores, validation_scores        "
   ]
  },
  {
   "cell_type": "markdown",
   "metadata": {},
   "source": [
    "### Ridge Regression on Housing data with all features"
   ]
  },
  {
   "cell_type": "code",
   "execution_count": 90,
   "metadata": {},
   "outputs": [
    {
     "data": {
      "text/html": [
       "<div>\n",
       "<style scoped>\n",
       "    .dataframe tbody tr th:only-of-type {\n",
       "        vertical-align: middle;\n",
       "    }\n",
       "\n",
       "    .dataframe tbody tr th {\n",
       "        vertical-align: top;\n",
       "    }\n",
       "\n",
       "    .dataframe thead th {\n",
       "        text-align: right;\n",
       "    }\n",
       "</style>\n",
       "<table border=\"1\" class=\"dataframe\">\n",
       "  <thead>\n",
       "    <tr style=\"text-align: right;\">\n",
       "      <th></th>\n",
       "      <th>id</th>\n",
       "      <th>date</th>\n",
       "      <th>price</th>\n",
       "      <th>bedrooms</th>\n",
       "      <th>bathrooms</th>\n",
       "      <th>sqft_living</th>\n",
       "      <th>sqft_lot</th>\n",
       "      <th>floors</th>\n",
       "      <th>waterfront</th>\n",
       "      <th>view</th>\n",
       "      <th>condition</th>\n",
       "      <th>grade</th>\n",
       "      <th>sqft_above</th>\n",
       "      <th>sqft_basement</th>\n",
       "      <th>yr_built</th>\n",
       "      <th>yr_renovated</th>\n",
       "      <th>zipcode</th>\n",
       "      <th>lat</th>\n",
       "      <th>long</th>\n",
       "    </tr>\n",
       "  </thead>\n",
       "  <tbody>\n",
       "    <tr>\n",
       "      <th>0</th>\n",
       "      <td>7129300520</td>\n",
       "      <td>20141013T000000</td>\n",
       "      <td>221900</td>\n",
       "      <td>3</td>\n",
       "      <td>1.00</td>\n",
       "      <td>1180.0</td>\n",
       "      <td>5650</td>\n",
       "      <td>1.0</td>\n",
       "      <td>0</td>\n",
       "      <td>0</td>\n",
       "      <td>3</td>\n",
       "      <td>7</td>\n",
       "      <td>1180</td>\n",
       "      <td>0</td>\n",
       "      <td>1955.0</td>\n",
       "      <td>NaN</td>\n",
       "      <td>98178.0</td>\n",
       "      <td>47.5112</td>\n",
       "      <td>-122.257</td>\n",
       "    </tr>\n",
       "    <tr>\n",
       "      <th>1</th>\n",
       "      <td>6414100192</td>\n",
       "      <td>20141209T000000</td>\n",
       "      <td>538000</td>\n",
       "      <td>3</td>\n",
       "      <td>2.25</td>\n",
       "      <td>2570.0</td>\n",
       "      <td>7242</td>\n",
       "      <td>2.0</td>\n",
       "      <td>0</td>\n",
       "      <td>0</td>\n",
       "      <td>3</td>\n",
       "      <td>7</td>\n",
       "      <td>2170</td>\n",
       "      <td>400</td>\n",
       "      <td>1951.0</td>\n",
       "      <td>1991.0</td>\n",
       "      <td>98125.0</td>\n",
       "      <td>47.7210</td>\n",
       "      <td>-122.319</td>\n",
       "    </tr>\n",
       "    <tr>\n",
       "      <th>2</th>\n",
       "      <td>5631500400</td>\n",
       "      <td>20150225T000000</td>\n",
       "      <td>180000</td>\n",
       "      <td>2</td>\n",
       "      <td>1.00</td>\n",
       "      <td>770.0</td>\n",
       "      <td>10000</td>\n",
       "      <td>1.0</td>\n",
       "      <td>0</td>\n",
       "      <td>0</td>\n",
       "      <td>3</td>\n",
       "      <td>6</td>\n",
       "      <td>770</td>\n",
       "      <td>0</td>\n",
       "      <td>1933.0</td>\n",
       "      <td>NaN</td>\n",
       "      <td>98028.0</td>\n",
       "      <td>47.7379</td>\n",
       "      <td>-122.233</td>\n",
       "    </tr>\n",
       "    <tr>\n",
       "      <th>3</th>\n",
       "      <td>2487200875</td>\n",
       "      <td>20141209T000000</td>\n",
       "      <td>604000</td>\n",
       "      <td>4</td>\n",
       "      <td>3.00</td>\n",
       "      <td>1960.0</td>\n",
       "      <td>5000</td>\n",
       "      <td>1.0</td>\n",
       "      <td>0</td>\n",
       "      <td>0</td>\n",
       "      <td>5</td>\n",
       "      <td>7</td>\n",
       "      <td>1050</td>\n",
       "      <td>910</td>\n",
       "      <td>1965.0</td>\n",
       "      <td>NaN</td>\n",
       "      <td>98136.0</td>\n",
       "      <td>47.5208</td>\n",
       "      <td>-122.393</td>\n",
       "    </tr>\n",
       "    <tr>\n",
       "      <th>4</th>\n",
       "      <td>1954400510</td>\n",
       "      <td>20150218T000000</td>\n",
       "      <td>510000</td>\n",
       "      <td>3</td>\n",
       "      <td>2.00</td>\n",
       "      <td>1680.0</td>\n",
       "      <td>8080</td>\n",
       "      <td>1.0</td>\n",
       "      <td>0</td>\n",
       "      <td>0</td>\n",
       "      <td>3</td>\n",
       "      <td>8</td>\n",
       "      <td>1680</td>\n",
       "      <td>0</td>\n",
       "      <td>1987.0</td>\n",
       "      <td>NaN</td>\n",
       "      <td>98074.0</td>\n",
       "      <td>47.6168</td>\n",
       "      <td>-122.045</td>\n",
       "    </tr>\n",
       "  </tbody>\n",
       "</table>\n",
       "</div>"
      ],
      "text/plain": [
       "           id             date   price  bedrooms  bathrooms  sqft_living  \\\n",
       "0  7129300520  20141013T000000  221900         3       1.00       1180.0   \n",
       "1  6414100192  20141209T000000  538000         3       2.25       2570.0   \n",
       "2  5631500400  20150225T000000  180000         2       1.00        770.0   \n",
       "3  2487200875  20141209T000000  604000         4       3.00       1960.0   \n",
       "4  1954400510  20150218T000000  510000         3       2.00       1680.0   \n",
       "\n",
       "   sqft_lot  floors  waterfront  view  condition  grade  sqft_above  \\\n",
       "0      5650     1.0           0     0          3      7        1180   \n",
       "1      7242     2.0           0     0          3      7        2170   \n",
       "2     10000     1.0           0     0          3      6         770   \n",
       "3      5000     1.0           0     0          5      7        1050   \n",
       "4      8080     1.0           0     0          3      8        1680   \n",
       "\n",
       "   sqft_basement  yr_built  yr_renovated  zipcode      lat     long  \n",
       "0              0    1955.0           NaN  98178.0  47.5112 -122.257  \n",
       "1            400    1951.0        1991.0  98125.0  47.7210 -122.319  \n",
       "2              0    1933.0           NaN  98028.0  47.7379 -122.233  \n",
       "3            910    1965.0           NaN  98136.0  47.5208 -122.393  \n",
       "4              0    1987.0           NaN  98074.0  47.6168 -122.045  "
      ]
     },
     "execution_count": 90,
     "metadata": {},
     "output_type": "execute_result"
    }
   ],
   "source": [
    "df = pd.read_csv('data/LinearRegression_kc_house_data.csv')\n",
    "df.head()"
   ]
  },
  {
   "cell_type": "markdown",
   "metadata": {},
   "source": [
    "#### Analyzing nan values of the data"
   ]
  },
  {
   "cell_type": "code",
   "execution_count": 91,
   "metadata": {},
   "outputs": [
    {
     "data": {
      "text/plain": [
       "id                   0\n",
       "date                 0\n",
       "price                0\n",
       "bedrooms             0\n",
       "bathrooms            0\n",
       "sqft_living          8\n",
       "sqft_lot             0\n",
       "floors               0\n",
       "waterfront           0\n",
       "view                 0\n",
       "condition            0\n",
       "grade                0\n",
       "sqft_above           0\n",
       "sqft_basement        0\n",
       "yr_built             6\n",
       "yr_renovated     20699\n",
       "zipcode              4\n",
       "lat                  0\n",
       "long                 0\n",
       "dtype: int64"
      ]
     },
     "execution_count": 91,
     "metadata": {},
     "output_type": "execute_result"
    }
   ],
   "source": [
    "df.isna().sum()"
   ]
  },
  {
   "cell_type": "markdown",
   "metadata": {},
   "source": [
    "#### Filling nan values of the data with most approprite methods"
   ]
  },
  {
   "cell_type": "code",
   "execution_count": 92,
   "metadata": {},
   "outputs": [
    {
     "data": {
      "text/plain": [
       "id               0\n",
       "date             0\n",
       "price            0\n",
       "bedrooms         0\n",
       "bathrooms        0\n",
       "sqft_living      0\n",
       "sqft_lot         0\n",
       "floors           0\n",
       "waterfront       0\n",
       "view             0\n",
       "condition        0\n",
       "grade            0\n",
       "sqft_above       0\n",
       "sqft_basement    0\n",
       "yr_built         6\n",
       "yr_renovated     6\n",
       "zipcode          0\n",
       "lat              0\n",
       "long             0\n",
       "dtype: int64"
      ]
     },
     "execution_count": 92,
     "metadata": {},
     "output_type": "execute_result"
    }
   ],
   "source": [
    "df['yr_renovated'] = df['yr_renovated'].fillna(df['yr_built'])\n",
    "df['zipcode'] = df['zipcode'].fillna(method='ffill')\n",
    "df['sqft_living'] = df['sqft_living'].fillna(df['sqft_living'].mean())\n",
    "df.isna().sum()"
   ]
  },
  {
   "cell_type": "markdown",
   "metadata": {},
   "source": [
    "Only 6 rows will be dropped with nan values"
   ]
  },
  {
   "cell_type": "markdown",
   "metadata": {},
   "source": [
    "#### Dropping unuseful columns such as date, id, ..."
   ]
  },
  {
   "cell_type": "code",
   "execution_count": 93,
   "metadata": {},
   "outputs": [
    {
     "data": {
      "text/plain": [
       "['bedrooms',\n",
       " 'bathrooms',\n",
       " 'sqft_living',\n",
       " 'sqft_lot',\n",
       " 'floors',\n",
       " 'waterfront',\n",
       " 'view',\n",
       " 'condition',\n",
       " 'grade',\n",
       " 'sqft_above',\n",
       " 'sqft_basement',\n",
       " 'yr_built',\n",
       " 'yr_renovated',\n",
       " 'zipcode',\n",
       " 'lat',\n",
       " 'long']"
      ]
     },
     "execution_count": 93,
     "metadata": {},
     "output_type": "execute_result"
    }
   ],
   "source": [
    "columns_to_select = []\n",
    "for column in df.columns:\n",
    "    if column not in ['id', 'date', 'price']:\n",
    "        columns_to_select.append(column)\n",
    "columns_to_select"
   ]
  },
  {
   "cell_type": "code",
   "execution_count": 94,
   "metadata": {},
   "outputs": [
    {
     "name": "stdout",
     "output_type": "stream",
     "text": [
      "(21607, 16) (21607, 1)\n"
     ]
    }
   ],
   "source": [
    "df = df[columns_to_select + ['price']].dropna()     # Only 6 rows dropped\n",
    "X = np.array(df[columns_to_select])\n",
    "y = np.array(df['price']).reshape(-1,1)\n",
    "print(X.shape, y.shape)"
   ]
  },
  {
   "cell_type": "markdown",
   "metadata": {},
   "source": [
    "#### Train Test Split and normalization"
   ]
  },
  {
   "cell_type": "code",
   "execution_count": 95,
   "metadata": {},
   "outputs": [
    {
     "name": "stdout",
     "output_type": "stream",
     "text": [
      "(17285, 16) (4322, 16) (17285, 1) (4322, 1)\n"
     ]
    }
   ],
   "source": [
    "train_size = int(0.8*X.shape[0])\n",
    "random_indices = np.random.permutation(X.shape[0])\n",
    "X_train = X[random_indices[:train_size], :]\n",
    "X_test = X[random_indices[train_size:], :]\n",
    "y_train = y[random_indices[:train_size], :]\n",
    "y_test = y[random_indices[train_size:], :]\n",
    "print(X_train.shape, X_test.shape, y_train.shape, y_test.shape)\n",
    "\n",
    "means = np.mean(X_train, axis=0)\n",
    "stds = np.std(X_train, axis=0)\n",
    "X_train = (X_train - means) / stds"
   ]
  },
  {
   "cell_type": "markdown",
   "metadata": {},
   "source": [
    "#### Running k-fold cross validation on the data for different values of lambda_regul"
   ]
  },
  {
   "cell_type": "code",
   "execution_count": 98,
   "metadata": {},
   "outputs": [],
   "source": [
    "lambda_regul_list = np.logspace(-7, 3, num=10)\n",
    "train_scores, validation_scores = k_fold_cross_validation(X_train, y_train, lambda_regul_list)"
   ]
  },
  {
   "cell_type": "markdown",
   "metadata": {},
   "source": [
    "#### Training the model with the best value of lambda_regul determined by k-fold cross validation"
   ]
  },
  {
   "cell_type": "code",
   "execution_count": 99,
   "metadata": {},
   "outputs": [
    {
     "data": {
      "text/plain": [
       "0.6986061281473497"
      ]
     },
     "execution_count": 99,
     "metadata": {},
     "output_type": "execute_result"
    }
   ],
   "source": [
    "w = ridge_regression(X_train, y_train, max_grad=1e7, lambda_regul=lambda_regul_list[np.argmax(validation_scores)])[0]\n",
    "score(X_train, y_train, w)"
   ]
  },
  {
   "cell_type": "code",
   "execution_count": 100,
   "metadata": {},
   "outputs": [
    {
     "data": {
      "text/plain": [
       "0.6982311036244548"
      ]
     },
     "execution_count": 100,
     "metadata": {},
     "output_type": "execute_result"
    }
   ],
   "source": [
    "score((X_test - means) / stds, y_test, w)"
   ]
  },
  {
   "cell_type": "markdown",
   "metadata": {},
   "source": [
    "We can see a significant increase in test set performance compared to our previous model in the Multiple Regression notebook."
   ]
  },
  {
   "cell_type": "code",
   "execution_count": null,
   "metadata": {},
   "outputs": [],
   "source": []
  }
 ],
 "metadata": {
  "kernelspec": {
   "display_name": "Python 3",
   "language": "python",
   "name": "python3"
  },
  "language_info": {
   "codemirror_mode": {
    "name": "ipython",
    "version": 3
   },
   "file_extension": ".py",
   "mimetype": "text/x-python",
   "name": "python",
   "nbconvert_exporter": "python",
   "pygments_lexer": "ipython3",
   "version": "3.6.6"
  }
 },
 "nbformat": 4,
 "nbformat_minor": 2
}
