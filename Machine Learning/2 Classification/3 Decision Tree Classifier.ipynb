{
 "cells": [
  {
   "cell_type": "markdown",
   "metadata": {},
   "source": [
    "# Decision Tree Classifier"
   ]
  },
  {
   "cell_type": "code",
   "execution_count": 1,
   "metadata": {},
   "outputs": [],
   "source": [
    "import numpy as np\n",
    "import pandas as pd\n",
    "import matplotlib.pyplot as plt\n",
    "from collections import Counter"
   ]
  },
  {
   "cell_type": "markdown",
   "metadata": {},
   "source": [
    "### Helping Functions"
   ]
  },
  {
   "cell_type": "code",
   "execution_count": 2,
   "metadata": {},
   "outputs": [],
   "source": [
    "def get_num_mistakes(y):\n",
    "    '''Returns the number of mistakes in case of majority class label\n",
    "    to all inputs. Also returns the majority label.\n",
    "    '''\n",
    "    \n",
    "    y = y.flatten()\n",
    "    label_counts = Counter(y)\n",
    "    max_count = max(label_counts.values())\n",
    "    # First majority class\n",
    "    max_count_label = [label for label, count in label_counts.items() if \n",
    "                          count == max_count][0]\n",
    "    num_mistakes = sum([count for label, count in label_counts.items() if \n",
    "                    label != max_count_label])\n",
    "    return num_mistakes, max_count_label\n",
    "\n",
    "\n",
    "def get_best_threshold(x, y):\n",
    "    '''Returns the best threshold for the real valued input x with least \n",
    "    classification error on class labels y. Also returns classification error\n",
    "    It binary classifies the data. For multiclass classification we can do \n",
    "    thresholding again and again.\n",
    "    '''\n",
    "    \n",
    "    x = x.flatten()\n",
    "    y = y.flatten()\n",
    "    sorted_x = sorted(x)\n",
    "    # No of Data Points\n",
    "    m = x.shape[0]\n",
    "    best_error = 2.0\n",
    "    best_threshold = None\n",
    "    \n",
    "    for i in range(m - 1):\n",
    "        \n",
    "        threshold = (sorted_x[i] + sorted_x[i + 1]) / 2.0\n",
    "        mistakes1 = 0\n",
    "        mistakes2 = 0\n",
    "        y1 = y[x < threshold]\n",
    "        y2 = y[x >= threshold]\n",
    "\n",
    "        if len(y1) > 0:\n",
    "\n",
    "            mistakes1, _ = get_num_mistakes(y1)\n",
    "\n",
    "        if len(y2) > 0:\n",
    "\n",
    "            mistakes2, _ = get_num_mistakes(y2)\n",
    "\n",
    "        error = (mistakes1 + mistakes2) / float(m)\n",
    "        \n",
    "        if error < best_error:\n",
    "            \n",
    "            best_error = error\n",
    "            best_threshold = threshold\n",
    "            \n",
    "    return best_threshold, best_error\n",
    "    \n",
    "    \n",
    "def get_best_splitting_feature(data, target, features_list, is_categorical_list):\n",
    "    '''Returns the best feature with least classification error\n",
    "    data : pandas dataframe containing training data\n",
    "    target : target column name in data\n",
    "    features_list : a list of column names used as features\n",
    "    is_categorical_list : boolean list representing the corresponding columns\n",
    "                          are categorical or not\n",
    "    Also returns classification error and whether the feature is categorical.\n",
    "    '''\n",
    "    \n",
    "    m = len(data)                       # No of data points\n",
    "    best_feature = None\n",
    "    is_categorical_best_feature = None\n",
    "    best_error = 2.0\n",
    "\n",
    "    for feature, is_categorical in zip(features_list, is_categorical_list):\n",
    "        \n",
    "        if is_categorical: # Categorical Feature\n",
    "            \n",
    "            num_mistakes = 0\n",
    "            \n",
    "            for category, frame in data.groupby(feature):\n",
    "                \n",
    "                num_mistakes += get_num_mistakes(np.array(frame[target]))[0]\n",
    "                \n",
    "            error = num_mistakes / float(m)\n",
    "            \n",
    "        else: # Continous Feature\n",
    "            \n",
    "            threshold, error = get_best_threshold(np.array(data[feature]),\n",
    "                                                  np.array(data[target]))\n",
    "            \n",
    "        if error < best_error:\n",
    "            \n",
    "            best_error = error\n",
    "            best_feature = feature\n",
    "            is_categorical_best_feature = is_categorical\n",
    "            \n",
    "    return best_feature, best_error, is_categorical_best_feature"
   ]
  },
  {
   "cell_type": "markdown",
   "metadata": {},
   "source": [
    "### The Model"
   ]
  },
  {
   "cell_type": "code",
   "execution_count": 3,
   "metadata": {},
   "outputs": [],
   "source": [
    "# Attributes of the tree node\n",
    "children_str = 'children'\n",
    "splitting_feature_str = 'splitting_feature'\n",
    "split_value_str = 'split_value'\n",
    "label_str = 'label'\n",
    "probability_str = 'probability'\n",
    "is_categorical_str = 'is_categorical'\n",
    "threshold_str = 'threshold'\n",
    "\n",
    "\n",
    "def create_node(y):\n",
    "    '''Creates a new node.\n",
    "    label and probability attributes are set others are None\n",
    "    use majority class label\n",
    "    '''\n",
    "    \n",
    "    y = y.flatten()\n",
    "    num_mistakes, label = get_num_mistakes(y)\n",
    "    probability = 1 - (num_mistakes / float(len(y)))\n",
    "    \n",
    "    return {\n",
    "        label_str: label,\n",
    "        probability_str: probability,\n",
    "        children_str: None,\n",
    "        splitting_feature_str: None,\n",
    "        split_value_str: None,\n",
    "        is_categorical_str: None,\n",
    "        threshold_str: None\n",
    "    }\n",
    "\n",
    "\n",
    "\n",
    "def create_decision_tree(data, target, features_list, is_categorical_list,\n",
    "                        current_depth=0, max_depth=10):\n",
    "    '''Recursively creates a new tree.\n",
    "        data: A pandas dataframe object\n",
    "        target: str representing target column\n",
    "        features_list: list of str representing feature columns\n",
    "        is_categorical_list: A boolean list of same size as features_list representing each feature\n",
    "                             whether it is categorical or continous\n",
    "    '''\n",
    "    \n",
    "    current_features = features_list[:]\n",
    "    current_categorical_list = is_categorical_list[:]\n",
    "    current_node = create_node(np.array(data[target]))\n",
    "    \n",
    "    if current_node[probability_str] == 1 or not current_features or current_depth >= max_depth:\n",
    "        \n",
    "        return current_node\n",
    "    \n",
    "    feature, error, is_categorical = get_best_splitting_feature(data, target, current_features, \n",
    "                                                               current_categorical_list)\n",
    "    \n",
    "    current_node[splitting_feature_str] = feature\n",
    "    current_node[is_categorical_str] = is_categorical\n",
    "    ind = current_features.index(feature)\n",
    "    children = []\n",
    "    \n",
    "    if is_categorical:\n",
    "        \n",
    "        del current_categorical_list[ind]\n",
    "        del current_features[ind]\n",
    "        \n",
    "        for category, frame in data.groupby(feature):\n",
    "            \n",
    "            child = create_decision_tree(frame, target, current_features, current_categorical_list, \n",
    "                                        current_depth + 1, max_depth)\n",
    "            child[split_value_str] = category\n",
    "            children.append(child)\n",
    "    \n",
    "    else:\n",
    "        \n",
    "        threshold, _ = get_best_threshold(np.array(data[feature]), np.array(data[target]))\n",
    "        current_node[threshold_str] = threshold\n",
    "        \n",
    "        frame1 = data[data[feature] < threshold]\n",
    "        frame2 = data[data[feature] >= threshold]\n",
    "        child1 = None\n",
    "        child2 = None\n",
    "\n",
    "        if len(frame1) > 0:\n",
    "\n",
    "            child1 = create_decision_tree(frame1, target, current_features, current_categorical_list,\n",
    "                                          current_depth + 1, max_depth)\n",
    "\n",
    "        if len(frame2) > 0:\n",
    "\n",
    "            child2 = create_decision_tree(frame2, target, current_features, current_categorical_list,\n",
    "                                          current_depth + 1, max_depth)\n",
    "        \n",
    "        children.append(child1)\n",
    "        children.append(child2)\n",
    "        \n",
    "    current_node[children_str] = children\n",
    "    \n",
    "    return current_node\n",
    "\n",
    "\n",
    "def classify(tree, x):\n",
    "    '''Returns prediction for a single observation x\n",
    "    '''\n",
    "    \n",
    "    if not tree[children_str]:\n",
    "        \n",
    "        return tree[label_str]\n",
    "    \n",
    "    feature = tree[splitting_feature_str]\n",
    "    is_categorical = tree[is_categorical_str]\n",
    "    \n",
    "    if is_categorical:\n",
    "        \n",
    "        for child in tree[children_str]:\n",
    "            \n",
    "            if child[split_value_str] == x[feature]:\n",
    "                \n",
    "                return classify(child, x)\n",
    "            \n",
    "    else:\n",
    "        \n",
    "        threshold = tree[threshold_str]\n",
    "        children = tree[children_str]\n",
    "        \n",
    "        if x[feature] < threshold:\n",
    "            \n",
    "            return classify(children[0], x)\n",
    "        \n",
    "        else:\n",
    "            \n",
    "            return classify(children[1], x)\n",
    "        \n",
    "        \n",
    "\n",
    "def display_tree(tree, is_categorical_parent = True, level=0):\n",
    "    '''Recursively displays the tree node by node\n",
    "    '''\n",
    "    \n",
    "    if tree:\n",
    "\n",
    "        print('\\t' * level, end='')\n",
    "\n",
    "        if is_categorical_parent:\n",
    "\n",
    "            print(tree[split_value_str], '\\b:', end=' ')\n",
    "\n",
    "        else:\n",
    "\n",
    "            print(tree[threshold_str], '\\b:', end=' ')\n",
    "\n",
    "        print(tree[splitting_feature_str], '->', tree[label_str])\n",
    "\n",
    "        if not tree[children_str]:\n",
    "            return\n",
    "\n",
    "        for child in tree[children_str]:\n",
    "            display_tree(child, tree[is_categorical_str], level + 1)\n",
    "\n",
    "\n",
    "def accuracy(tree, data, target):\n",
    "    '''Returns accuracy of the model on the data\n",
    "    data: A pandas dataframe object\n",
    "    '''\n",
    "    \n",
    "    prediction = data.apply(lambda x: classify(tree, x), axis = 1)\n",
    "\n",
    "    return 100.0 * np.sum(data[target] == prediction) / float(len(data))"
   ]
  },
  {
   "cell_type": "markdown",
   "metadata": {},
   "source": [
    "### Categorical Data"
   ]
  },
  {
   "cell_type": "code",
   "execution_count": 9,
   "metadata": {},
   "outputs": [],
   "source": [
    "features = ['grade',              # grade of the loan\n",
    "            'term',               # the term of the loan\n",
    "            'home_ownership',     # home_ownership status: own, mortgage or rent\n",
    "            'emp_length',         # number of years of employment\n",
    "           ]\n",
    "target = 'bad_loans'"
   ]
  },
  {
   "cell_type": "code",
   "execution_count": 10,
   "metadata": {},
   "outputs": [
    {
     "data": {
      "text/html": [
       "<div>\n",
       "<style scoped>\n",
       "    .dataframe tbody tr th:only-of-type {\n",
       "        vertical-align: middle;\n",
       "    }\n",
       "\n",
       "    .dataframe tbody tr th {\n",
       "        vertical-align: top;\n",
       "    }\n",
       "\n",
       "    .dataframe thead th {\n",
       "        text-align: right;\n",
       "    }\n",
       "</style>\n",
       "<table border=\"1\" class=\"dataframe\">\n",
       "  <thead>\n",
       "    <tr style=\"text-align: right;\">\n",
       "      <th></th>\n",
       "      <th>term</th>\n",
       "      <th>grade</th>\n",
       "      <th>emp_length</th>\n",
       "      <th>home_ownership</th>\n",
       "      <th>bad_loans</th>\n",
       "    </tr>\n",
       "  </thead>\n",
       "  <tbody>\n",
       "    <tr>\n",
       "      <th>0</th>\n",
       "      <td>36 months</td>\n",
       "      <td>B</td>\n",
       "      <td>10+ years</td>\n",
       "      <td>RENT</td>\n",
       "      <td>0</td>\n",
       "    </tr>\n",
       "    <tr>\n",
       "      <th>1</th>\n",
       "      <td>60 months</td>\n",
       "      <td>C</td>\n",
       "      <td>&lt; 1 year</td>\n",
       "      <td>RENT</td>\n",
       "      <td>1</td>\n",
       "    </tr>\n",
       "    <tr>\n",
       "      <th>2</th>\n",
       "      <td>36 months</td>\n",
       "      <td>C</td>\n",
       "      <td>10+ years</td>\n",
       "      <td>RENT</td>\n",
       "      <td>0</td>\n",
       "    </tr>\n",
       "    <tr>\n",
       "      <th>3</th>\n",
       "      <td>36 months</td>\n",
       "      <td>C</td>\n",
       "      <td>10+ years</td>\n",
       "      <td>RENT</td>\n",
       "      <td>0</td>\n",
       "    </tr>\n",
       "    <tr>\n",
       "      <th>4</th>\n",
       "      <td>36 months</td>\n",
       "      <td>A</td>\n",
       "      <td>3 years</td>\n",
       "      <td>RENT</td>\n",
       "      <td>0</td>\n",
       "    </tr>\n",
       "  </tbody>\n",
       "</table>\n",
       "</div>"
      ],
      "text/plain": [
       "         term grade emp_length home_ownership  bad_loans\n",
       "0   36 months     B  10+ years           RENT          0\n",
       "1   60 months     C   < 1 year           RENT          1\n",
       "2   36 months     C  10+ years           RENT          0\n",
       "3   36 months     C  10+ years           RENT          0\n",
       "4   36 months     A    3 years           RENT          0"
      ]
     },
     "execution_count": 10,
     "metadata": {},
     "output_type": "execute_result"
    }
   ],
   "source": [
    "df = pd.read_csv('data/lending-club-data.csv', usecols=features + [target])\n",
    "df.head()"
   ]
  },
  {
   "cell_type": "markdown",
   "metadata": {},
   "source": [
    "#### Train Test Split"
   ]
  },
  {
   "cell_type": "code",
   "execution_count": 13,
   "metadata": {},
   "outputs": [
    {
     "name": "stdout",
     "output_type": "stream",
     "text": [
      "98085 24522\n"
     ]
    }
   ],
   "source": [
    "train_size = int(0.8*len(df))\n",
    "random_indices = np.random.permutation(len(df))\n",
    "\n",
    "df_train = df[:train_size]\n",
    "df_test = df[train_size:]\n",
    "\n",
    "print(len(df_train), len(df_test))"
   ]
  },
  {
   "cell_type": "markdown",
   "metadata": {},
   "source": [
    "#### Building Tree"
   ]
  },
  {
   "cell_type": "code",
   "execution_count": 14,
   "metadata": {},
   "outputs": [],
   "source": [
    "is_cat_list = [True] * 4\n",
    "tree = create_decision_tree(df_train, target, features, is_cat_list)"
   ]
  },
  {
   "cell_type": "markdown",
   "metadata": {},
   "source": [
    "#### Test Set Performance"
   ]
  },
  {
   "cell_type": "code",
   "execution_count": 17,
   "metadata": {},
   "outputs": [
    {
     "data": {
      "text/plain": [
       "81.8978876111247"
      ]
     },
     "execution_count": 17,
     "metadata": {},
     "output_type": "execute_result"
    }
   ],
   "source": [
    "accuracy(tree, df_test, target)"
   ]
  },
  {
   "cell_type": "markdown",
   "metadata": {},
   "source": [
    "### Continous Data"
   ]
  },
  {
   "cell_type": "code",
   "execution_count": 18,
   "metadata": {},
   "outputs": [],
   "source": [
    "features = ['sepal length', 'sepal width', 'petal length', 'petal width']\n",
    "target = 'label'"
   ]
  },
  {
   "cell_type": "code",
   "execution_count": 20,
   "metadata": {},
   "outputs": [
    {
     "data": {
      "text/html": [
       "<div>\n",
       "<style scoped>\n",
       "    .dataframe tbody tr th:only-of-type {\n",
       "        vertical-align: middle;\n",
       "    }\n",
       "\n",
       "    .dataframe tbody tr th {\n",
       "        vertical-align: top;\n",
       "    }\n",
       "\n",
       "    .dataframe thead th {\n",
       "        text-align: right;\n",
       "    }\n",
       "</style>\n",
       "<table border=\"1\" class=\"dataframe\">\n",
       "  <thead>\n",
       "    <tr style=\"text-align: right;\">\n",
       "      <th></th>\n",
       "      <th>sepal length</th>\n",
       "      <th>sepal width</th>\n",
       "      <th>petal length</th>\n",
       "      <th>petal width</th>\n",
       "      <th>class</th>\n",
       "      <th>label</th>\n",
       "    </tr>\n",
       "  </thead>\n",
       "  <tbody>\n",
       "    <tr>\n",
       "      <th>58</th>\n",
       "      <td>6.6</td>\n",
       "      <td>2.9</td>\n",
       "      <td>4.6</td>\n",
       "      <td>1.3</td>\n",
       "      <td>Iris-versicolor</td>\n",
       "      <td>1</td>\n",
       "    </tr>\n",
       "    <tr>\n",
       "      <th>62</th>\n",
       "      <td>6.0</td>\n",
       "      <td>2.2</td>\n",
       "      <td>4.0</td>\n",
       "      <td>1.0</td>\n",
       "      <td>Iris-versicolor</td>\n",
       "      <td>1</td>\n",
       "    </tr>\n",
       "    <tr>\n",
       "      <th>45</th>\n",
       "      <td>4.8</td>\n",
       "      <td>3.0</td>\n",
       "      <td>1.4</td>\n",
       "      <td>0.3</td>\n",
       "      <td>Iris-setosa</td>\n",
       "      <td>0</td>\n",
       "    </tr>\n",
       "    <tr>\n",
       "      <th>121</th>\n",
       "      <td>5.6</td>\n",
       "      <td>2.8</td>\n",
       "      <td>4.9</td>\n",
       "      <td>2.0</td>\n",
       "      <td>Iris-virginica</td>\n",
       "      <td>2</td>\n",
       "    </tr>\n",
       "    <tr>\n",
       "      <th>87</th>\n",
       "      <td>6.3</td>\n",
       "      <td>2.3</td>\n",
       "      <td>4.4</td>\n",
       "      <td>1.3</td>\n",
       "      <td>Iris-versicolor</td>\n",
       "      <td>1</td>\n",
       "    </tr>\n",
       "    <tr>\n",
       "      <th>8</th>\n",
       "      <td>4.4</td>\n",
       "      <td>2.9</td>\n",
       "      <td>1.4</td>\n",
       "      <td>0.2</td>\n",
       "      <td>Iris-setosa</td>\n",
       "      <td>0</td>\n",
       "    </tr>\n",
       "    <tr>\n",
       "      <th>148</th>\n",
       "      <td>6.2</td>\n",
       "      <td>3.4</td>\n",
       "      <td>5.4</td>\n",
       "      <td>2.3</td>\n",
       "      <td>Iris-virginica</td>\n",
       "      <td>2</td>\n",
       "    </tr>\n",
       "    <tr>\n",
       "      <th>126</th>\n",
       "      <td>6.2</td>\n",
       "      <td>2.8</td>\n",
       "      <td>4.8</td>\n",
       "      <td>1.8</td>\n",
       "      <td>Iris-virginica</td>\n",
       "      <td>2</td>\n",
       "    </tr>\n",
       "    <tr>\n",
       "      <th>109</th>\n",
       "      <td>7.2</td>\n",
       "      <td>3.6</td>\n",
       "      <td>6.1</td>\n",
       "      <td>2.5</td>\n",
       "      <td>Iris-virginica</td>\n",
       "      <td>2</td>\n",
       "    </tr>\n",
       "    <tr>\n",
       "      <th>104</th>\n",
       "      <td>6.5</td>\n",
       "      <td>3.0</td>\n",
       "      <td>5.8</td>\n",
       "      <td>2.2</td>\n",
       "      <td>Iris-virginica</td>\n",
       "      <td>2</td>\n",
       "    </tr>\n",
       "  </tbody>\n",
       "</table>\n",
       "</div>"
      ],
      "text/plain": [
       "     sepal length  sepal width  petal length  petal width            class  \\\n",
       "58            6.6          2.9           4.6          1.3  Iris-versicolor   \n",
       "62            6.0          2.2           4.0          1.0  Iris-versicolor   \n",
       "45            4.8          3.0           1.4          0.3      Iris-setosa   \n",
       "121           5.6          2.8           4.9          2.0   Iris-virginica   \n",
       "87            6.3          2.3           4.4          1.3  Iris-versicolor   \n",
       "8             4.4          2.9           1.4          0.2      Iris-setosa   \n",
       "148           6.2          3.4           5.4          2.3   Iris-virginica   \n",
       "126           6.2          2.8           4.8          1.8   Iris-virginica   \n",
       "109           7.2          3.6           6.1          2.5   Iris-virginica   \n",
       "104           6.5          3.0           5.8          2.2   Iris-virginica   \n",
       "\n",
       "     label  \n",
       "58       1  \n",
       "62       1  \n",
       "45       0  \n",
       "121      2  \n",
       "87       1  \n",
       "8        0  \n",
       "148      2  \n",
       "126      2  \n",
       "109      2  \n",
       "104      2  "
      ]
     },
     "execution_count": 20,
     "metadata": {},
     "output_type": "execute_result"
    }
   ],
   "source": [
    "df = pd.read_csv('data/iris.csv', header=None, names=features + ['class'])\n",
    "class_to_label_dict = {'Iris-setosa': 0, 'Iris-versicolor': 1, \n",
    "                      'Iris-virginica': 2}\n",
    "df['label'] = df['class'].map(lambda x: class_to_label_dict[x])\n",
    "\n",
    "df.iloc[np.random.randint(0, len(df), 10)]"
   ]
  },
  {
   "cell_type": "markdown",
   "metadata": {},
   "source": [
    "#### Train Test Split"
   ]
  },
  {
   "cell_type": "code",
   "execution_count": 21,
   "metadata": {},
   "outputs": [
    {
     "name": "stdout",
     "output_type": "stream",
     "text": [
      "120 30\n"
     ]
    }
   ],
   "source": [
    "train_size = int(0.8*len(df))\n",
    "random_indices = np.random.permutation(len(df))\n",
    "\n",
    "df_train = df[:train_size]\n",
    "df_test = df[train_size:]\n",
    "\n",
    "print(len(df_train), len(df_test))"
   ]
  },
  {
   "cell_type": "markdown",
   "metadata": {},
   "source": [
    "#### Building Tree"
   ]
  },
  {
   "cell_type": "code",
   "execution_count": 28,
   "metadata": {},
   "outputs": [],
   "source": [
    "is_cat_list = [False] * 4\n",
    "tree = create_decision_tree(df_train, target, features, is_cat_list, max_depth=2)"
   ]
  },
  {
   "cell_type": "markdown",
   "metadata": {},
   "source": [
    "#### Test Set Performance"
   ]
  },
  {
   "cell_type": "code",
   "execution_count": 30,
   "metadata": {},
   "outputs": [
    {
     "data": {
      "text/plain": [
       "83.33333333333333"
      ]
     },
     "execution_count": 30,
     "metadata": {},
     "output_type": "execute_result"
    }
   ],
   "source": [
    "accuracy(tree, df_test, 'label')"
   ]
  },
  {
   "cell_type": "markdown",
   "metadata": {},
   "source": [
    "We can also use a mixture of continous and categorical features. The model will handle them itself."
   ]
  },
  {
   "cell_type": "code",
   "execution_count": null,
   "metadata": {},
   "outputs": [],
   "source": []
  }
 ],
 "metadata": {
  "kernelspec": {
   "display_name": "Python 3",
   "language": "python",
   "name": "python3"
  },
  "language_info": {
   "codemirror_mode": {
    "name": "ipython",
    "version": 3
   },
   "file_extension": ".py",
   "mimetype": "text/x-python",
   "name": "python",
   "nbconvert_exporter": "python",
   "pygments_lexer": "ipython3",
   "version": "3.6.6"
  }
 },
 "nbformat": 4,
 "nbformat_minor": 2
}
